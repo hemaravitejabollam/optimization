{
  "nbformat": 4,
  "nbformat_minor": 0,
  "metadata": {
    "colab": {
      "name": "IntegerProgrammingExamples.ipynb",
      "provenance": [],
      "collapsed_sections": [],
      "toc_visible": true
    },
    "kernelspec": {
      "name": "python3",
      "display_name": "Python 3"
    },
    "language_info": {
      "name": "python"
    }
  },
  "cells": [
    {
      "cell_type": "code",
      "metadata": {
        "id": "xVyb7LLiIirQ"
      },
      "source": [
        "%%capture\n",
        "!pip install -q pyomo\n",
        "!apt-get install -y -qq glpk-utils"
      ],
      "execution_count": 1,
      "outputs": []
    },
    {
      "cell_type": "code",
      "metadata": {
        "id": "FEwSeLiKgIEo"
      },
      "source": [
        "# Import pyomo package\n",
        "from pyomo.environ import *"
      ],
      "execution_count": 2,
      "outputs": []
    },
    {
      "cell_type": "markdown",
      "metadata": {
        "id": "M88NkiJ6Iv7a"
      },
      "source": [
        "# IP vs LP Problem"
      ]
    },
    {
      "cell_type": "code",
      "metadata": {
        "id": "8nPW7W9IIpp1"
      },
      "source": [
        "# Import pyomo package\n",
        "from pyomo.environ import *\n",
        "\n",
        "# Create a model\n",
        "model= ConcreteModel()\n",
        "\n",
        "# declare variables\n",
        "model.x1 = Var(domain=NonNegativeIntegers)\n",
        "model.x2 = Var(domain=NonNegativeIntegers)\n",
        "\n",
        "# objective function\n",
        "model.profit = Objective(expr = model.x1 + 5*model.x2, sense=maximize)\n",
        "\n",
        "#constraints\n",
        "model.electronic = Constraint(expr = model.x1 + 10*model.x2 <= 20)\n",
        "model.assembly = Constraint(expr = model.x1 <=2)\n",
        "\n",
        "#solve\n",
        "results = SolverFactory('glpk').solve(model)\n",
        "results.write()\n",
        "model.pprint()\n",
        "\n",
        "# display solutions\n",
        "print('\\nProfit = ', model.profit())\n",
        "\n",
        "print('\\nx1 = ' , model.x1())\n",
        "print('x2 = ' , model.x2())"
      ],
      "execution_count": null,
      "outputs": []
    },
    {
      "cell_type": "markdown",
      "metadata": {
        "id": "XcIliuojV4sY"
      },
      "source": [
        "# Example 1"
      ]
    },
    {
      "cell_type": "code",
      "metadata": {
        "id": "3vfpIFmhV99P"
      },
      "source": [
        "# Import pyomo package\n",
        "from pyomo.environ import *\n",
        "\n",
        "# Create a model\n",
        "model= ConcreteModel()\n",
        "\n",
        "# declare variables\n",
        "model.x1 = Var(domain=NonNegativeIntegers)\n",
        "model.x2 = Var(domain=NonNegativeIntegers)\n",
        "model.x3 = Var(domain=NonNegativeIntegers)\n",
        "model.x4 = Var(domain=NonNegativeIntegers)\n",
        "\n",
        "# objective function\n",
        "model.profit = Objective(expr = 21*model.x1 + 28*model.x2 + 48*model.x3 + 41*model.x4, sense=maximize)\n",
        "\n",
        "#constraints\n",
        "model.constraint1 = Constraint(expr = 45*model.x1 + 54*model.x2 + 110*model.x3 + 104*model.x4 <= 8000)\n",
        "model.constraint2 = Constraint(expr = 300*model.x1 + 360*model.x2 + 320*model.x3 + 340*model.x4 <= 40000)\n",
        "model.constraint3 = Constraint(expr = model.x1 >= 35)\n",
        "model.constraint4 = Constraint(expr = model.x2 <= 50)\n",
        "model.constraint5 = Constraint(expr = 10<=model.x3 <= 20)\n",
        "model.constraint6 = Constraint(expr = 10<=model.x4 <= 20)\n",
        "\n",
        "\n",
        "#solve\n",
        "results = SolverFactory('glpk').solve(model)\n",
        "results.write()\n",
        "model.pprint()\n",
        "\n",
        "# display solutions\n",
        "print('\\nProfit = ', model.profit())\n",
        "\n",
        "print('\\nx1 = ' , model.x1())\n",
        "print('x2 = ' , model.x2())\n",
        "print('x3 = ' , model.x3())\n",
        "print('x4 = ' , model.x4())"
      ],
      "execution_count": null,
      "outputs": []
    },
    {
      "cell_type": "markdown",
      "metadata": {
        "id": "yqe6pcepf38h"
      },
      "source": [
        "# Example 2"
      ]
    },
    {
      "cell_type": "code",
      "metadata": {
        "id": "hzV2cdvvf9mZ"
      },
      "source": [
        "model = ConcreteModel()\n",
        "\n",
        "prjt = ['a', 'b', 'c', 'd', 'e']  # This list represents the 5 projects\n",
        "\n",
        "# declare variables\n",
        "model.x = Var(prjt, domain=Boolean)\n",
        "\n",
        "model.profit = Objective(expr= model.x[prjt[0]] + 1.8*model.x[prjt[1]] + 1.6*model.x[prjt[2]] +\n",
        "                         0.8*model.x[prjt[3]] + 1.4*model.x[prjt[4]], sense = maximize)\n",
        "\n",
        "model.capital= Constraint(expr= 6*model.x[prjt[0]] + 12*model.x[prjt[1]] + 10*model.x[prjt[2]] +\n",
        "                         4*model.x[prjt[3]] + 8*model.x[prjt[4]]<=20)\n",
        "\n",
        "#solve\n",
        "results = SolverFactory('glpk').solve(model)\n",
        "results.write()\n",
        "model.pprint()\n",
        "\n",
        "\n",
        "# display solutions\n",
        "print('\\nProfit = ', model.profit())\n",
        "\n",
        "for i in prjt:\n",
        "  print('investment', i , 'is',  model.x[i]())\n"
      ],
      "execution_count": null,
      "outputs": []
    },
    {
      "cell_type": "markdown",
      "metadata": {
        "id": "5ifRUrDr4Vh6"
      },
      "source": [
        "# Example 3"
      ]
    },
    {
      "cell_type": "code",
      "metadata": {
        "id": "5n50Qzhn4ZXJ"
      },
      "source": [
        "model = ConcreteModel()\n",
        "\n",
        "prjt = ['a', 'b', 'c', 'd', 'e', 'f']  # This list represents the 6 projects\n",
        "\n",
        "# declare variables\n",
        "model.x = Var(prjt, domain=Boolean)\n",
        "\n",
        "model.profit = Objective(expr= 15*model.x[prjt[0]] + 12*model.x[prjt[1]] + 16*model.x[prjt[2]] +\n",
        "                         18*model.x[prjt[3]] + 9*model.x[prjt[4]]+ 11*model.x[prjt[5]], sense = maximize)\n",
        "\n",
        "model.capital= Constraint(expr= 38*model.x[prjt[0]] + 33*model.x[prjt[1]] + 39*model.x[prjt[2]] +\n",
        "                         45*model.x[prjt[3]] + 23*model.x[prjt[4]]+ 27*model.x[prjt[5]]<=100)\n",
        "\n",
        "model.mutual1_2= Constraint(expr= model.x[prjt[0]] +model.x[prjt[1]] <=1)\n",
        "model.mutual3_4= Constraint(expr= model.x[prjt[2]] +model.x[prjt[3]] <=1)\n",
        "\n",
        "#solve\n",
        "results = SolverFactory('glpk').solve(model)\n",
        "results.write()\n",
        "model.pprint()\n",
        "\n",
        "\n",
        "# display solutions\n",
        "print('\\nProfit = ', model.profit())\n",
        "\n",
        "for i in prjt:\n",
        "  print('investment', i , 'is',  model.x[i]())"
      ],
      "execution_count": null,
      "outputs": []
    },
    {
      "cell_type": "markdown",
      "metadata": {
        "id": "xzlHiwYbRUvA"
      },
      "source": [
        "# Example 4"
      ]
    },
    {
      "cell_type": "code",
      "metadata": {
        "id": "Da0QYicORYGW"
      },
      "source": [
        "model = ConcreteModel()\n",
        "\n",
        "prjt = ['a', 'b', 'c', 'd']  # This list represents the 4 projects\n",
        "\n",
        "M=10000 # Big M value \n",
        "\n",
        "# declare variables\n",
        "model.y = Var(prjt, domain=Boolean)\n",
        "model.x = Var(prjt, domain=NonNegativeReals)\n",
        "\n",
        "model.profit = Objective(expr= 70*model.x[prjt[0]] - 50000*model.y[prjt[0]] \n",
        "                         + 60*model.x[prjt[1]] - 40000*model.y[prjt[1]]\n",
        "                         + 90*model.x[prjt[2]] - 70000*model.y[prjt[2]]\n",
        "                         + 80*model.x[prjt[3]] - 60000*model.y[prjt[3]] , sense = maximize)\n",
        "\n",
        "model.constraint1= Constraint(expr= model.y[prjt[0]] + model.y[prjt[1]] + model.y[prjt[2]] +model.y[prjt[3]]<=2)\n",
        "\n",
        "model.constraint2= Constraint(expr= 5*model.x[prjt[0]] + 3*model.x[prjt[1]] + 6*model.x[prjt[2]] + 4*model.x[prjt[3]]<=6000)\n",
        "\n",
        "model.constraint3= Constraint(expr= model.x[prjt[0]] <= M * model.y[prjt[0]])\n",
        "model.constraint4= Constraint(expr= model.x[prjt[1]] <= M * model.y[prjt[1]])\n",
        "model.constraint5= Constraint(expr= model.x[prjt[2]] <= M * model.y[prjt[2]])\n",
        "model.constraint6= Constraint(expr= model.x[prjt[3]] <= M * model.y[prjt[3]])\n",
        "\n",
        "#solve\n",
        "results = SolverFactory('glpk').solve(model)\n",
        "results.write()\n",
        "model.pprint()\n",
        "\n",
        "\n",
        "# display solutions\n",
        "print('\\nProfit = ', model.profit())\n",
        "\n",
        "for i in prjt:\n",
        "  print('project', i , 'is',  model.x[i]())"
      ],
      "execution_count": null,
      "outputs": []
    }
  ]
}