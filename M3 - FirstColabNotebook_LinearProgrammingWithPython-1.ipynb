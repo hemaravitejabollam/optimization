{
  "nbformat": 4,
  "nbformat_minor": 0,
  "metadata": {
    "colab": {
      "name": "FirstColabNotebook_LinearProgrammingWithPython.ipynb",
      "provenance": [],
      "collapsed_sections": []
    },
    "kernelspec": {
      "name": "python3",
      "display_name": "Python 3"
    }
  },
  "cells": [
    {
      "cell_type": "code",
      "metadata": {
        "id": "owLPqYpYZEqI"
      },
      "source": [
        "%%capture\n",
        "!pip install -q pyomo\n",
        "!apt-get install -y -qq glpk-utils"
      ],
      "execution_count": null,
      "outputs": []
    },
    {
      "cell_type": "markdown",
      "metadata": {
        "id": "75TqOaIZl3-F"
      },
      "source": [
        "# Exercise 1"
      ]
    },
    {
      "cell_type": "code",
      "metadata": {
        "id": "vROLvmLqltcW"
      },
      "source": [
        "# Import pyomo package\n",
        "from pyomo.environ import *\n",
        "\n",
        "# Create a model\n",
        "model= ConcreteModel()\n",
        "\n",
        "# declare variables\n",
        "model.x1 = Var(domain=NonNegativeReals)\n",
        "model.x2 = Var(domain=NonNegativeReals)\n",
        "\n",
        "# objective function\n",
        "model.profit = Objective(expr = 7*model.x1 + 5*model.x2, sense=maximize)\n",
        "\n",
        "#constraints\n",
        "model.electronic = Constraint(expr = 4*model.x1 + 3*model.x2 <= 240)\n",
        "model.assembly = Constraint(expr = 2*model.x1 + model.x2 <=100)\n",
        "\n",
        "#solve\n",
        "results = SolverFactory('glpk').solve(model)\n",
        "results.write()\n",
        "model.pprint()\n",
        "\n",
        "# display solutions\n",
        "print('\\nProfit = ', model.profit())\n",
        "\n",
        "print('\\nx1 = ' , model.x1())\n",
        "print('x2 = ' , model.x2())\n",
        "\n",
        "\n",
        "\n",
        "\n"
      ],
      "execution_count": null,
      "outputs": []
    },
    {
      "cell_type": "markdown",
      "metadata": {
        "id": "kxKLWyxi0HWz"
      },
      "source": [
        "# Exercise 2"
      ]
    },
    {
      "cell_type": "code",
      "metadata": {
        "id": "eM_pqUP50Mjl"
      },
      "source": [
        "# Import pyomo package\n",
        "from pyomo.environ import *\n",
        "\n",
        "# Create a model\n",
        "model= ConcreteModel()\n",
        "\n",
        "# declare variables\n",
        "model.x1 = Var(domain=NonNegativeReals)\n",
        "model.x2 = Var(domain=NonNegativeReals)\n",
        "\n",
        "# objective\n",
        "model.cost = Objective(expr = 20000*model.x1 + 25000*model.x2, sense = minimize)\n",
        "\n",
        "#constraints\n",
        "model.low = Constraint(expr = 400*model.x1 + 300*model.x2 >=25000)\n",
        "model.medium = Constraint(expr = 300*model.x1 + 400*model.x2 >=27000)\n",
        "model.high = Constraint(expr = 200*model.x1 + 500*model.x2 >= 30000)\n",
        "\n",
        "#Solve\n",
        "\n",
        "results = SolverFactory('glpk').solve(model)\n",
        "results.write()\n",
        "model.pprint()\n",
        "\n",
        "# display results\n",
        "print('\\nCost = ', model.cost())\n",
        "\n",
        "print('\\nx1 = ', model.x1())\n",
        "print('x2 = ', model.x2())"
      ],
      "execution_count": null,
      "outputs": []
    },
    {
      "cell_type": "markdown",
      "metadata": {
        "id": "0AmmfByvDDYn"
      },
      "source": [
        "# Exercise 4"
      ]
    },
    {
      "cell_type": "markdown",
      "metadata": {
        "id": "ROC07ngtDM_e"
      },
      "source": [
        "Let $x_1$ be the number of units on special risk insurance and $x_2$ be the number of units on mortgages.\n",
        "\n",
        "$Maximize\\ z=5x_1+2x_2$ \\\n",
        "subject to \\\n",
        "$3x_1+2x_2 \\leq 2400$ \\\n",
        "$x_2 \\leq 800$ \\\n",
        "$2x_1 \\leq 1200 $ \\\n",
        "$x_1, x_2 \\geq 0$"
      ]
    },
    {
      "cell_type": "code",
      "metadata": {
        "id": "CXI6U5vlDLE4"
      },
      "source": [
        "# Import pyomo package\n",
        "from pyomo.environ import *\n",
        "\n",
        "# Create a model\n",
        "model= ConcreteModel()\n",
        "\n",
        "# declare variables\n",
        "model.x1 = Var(domain=NonNegativeReals)\n",
        "model.x2 = Var(domain=NonNegativeReals)\n",
        "\n",
        "# objective function\n",
        "model.profit = Objective(expr = 5*model.x1 + 2*model.x2, sense=maximize)\n",
        "\n",
        "#constraints\n",
        "model.constraint1 = Constraint(expr = 3*model.x1 + 2*model.x2 <= 2400)\n",
        "model.constraint2 = Constraint(expr = model.x2 <=800)\n",
        "model.constraint3 = Constraint(expr = 2*model.x1 <=1200)\n",
        "\n",
        "#solve\n",
        "results = SolverFactory('glpk').solve(model)\n",
        "results.write()\n",
        "model.pprint()\n",
        "\n",
        "# display solutions\n",
        "print('\\nProfit = ', model.profit())\n",
        "\n",
        "print('\\nx1 = ' , model.x1())\n",
        "print('x2 = ' , model.x2())"
      ],
      "execution_count": null,
      "outputs": []
    },
    {
      "cell_type": "markdown",
      "metadata": {
        "id": "Rs_9EwaQFAjt"
      },
      "source": [
        "# Exercise 5"
      ]
    },
    {
      "cell_type": "markdown",
      "metadata": {
        "id": "dHFOU_PdFE8t"
      },
      "source": [
        "Let $x_i$ be the number of units be the number of units of product $i$ produced for $i=1,2,3.$\n",
        "\n",
        "$Maximize \\ z=50x_1+20x_2+25x_3$ \\\n",
        "subject to \\\n",
        "$9x_1+3x_2+5x_3 \\leq 500$ \\\n",
        "$5x_1+4x_2  \\leq 350$ \\\n",
        "$3x_1+2x_3 \\leq 150$ \\\n",
        "$x_3 \\leq 20 $ \\\n",
        "$x_1, x_2, x_3 \\geq 0$"
      ]
    },
    {
      "cell_type": "code",
      "metadata": {
        "id": "HkEAyblNGqFS"
      },
      "source": [
        "# Import pyomo package\n",
        "from pyomo.environ import *\n",
        "\n",
        "# Create a model\n",
        "model= ConcreteModel()\n",
        "\n",
        "# declare variables\n",
        "model.x1 = Var(domain=NonNegativeReals)\n",
        "model.x2 = Var(domain=NonNegativeReals)\n",
        "model.x3 = Var(domain=NonNegativeReals)\n",
        "\n",
        "# objective function\n",
        "model.profit = Objective(expr = 50*model.x1 + 20*model.x2+ 25*model.x3, sense=maximize)\n",
        "\n",
        "#constraints\n",
        "model.constraint1 = Constraint(expr = 9*model.x1 + 3*model.x2 + 5*model.x3 <= 500)\n",
        "model.constraint2 = Constraint(expr = 5*model.x1 + 4*model.x2 <=350)\n",
        "model.constraint3 = Constraint(expr = 3*model.x1 + 2*model.x3 <=150)\n",
        "model.constraint4 = Constraint(expr = model.x3 <=20)\n",
        "\n",
        "#solve\n",
        "results = SolverFactory('glpk').solve(model)\n",
        "results.write()\n",
        "model.pprint()\n",
        "\n",
        "# display solutions\n",
        "print('\\nProfit = ', model.profit())\n",
        "\n",
        "print('\\nx1 = ' , model.x1())\n",
        "print('x2 = ' , model.x2())\n",
        "print('x3 = ' , model.x3())"
      ],
      "execution_count": null,
      "outputs": []
    }
  ]
}